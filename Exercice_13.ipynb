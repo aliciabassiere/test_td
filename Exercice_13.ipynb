{
 "cells": [
  {
   "cell_type": "markdown",
   "metadata": {
    "collapsed": true,
    "pycharm": {
     "name": "#%% md\n"
    }
   },
   "source": [
    "### Exercice 13"
   ]
  },
  {
   "cell_type": "code",
   "execution_count": 17,
   "outputs": [],
   "source": [
    "conso_verdure_Michel = {\"peches\" : 1.5, \"cerises\" : 1.3, \"courgettes\" : 2.5,\n",
    " \"abricots\" : 0.4, \"peches plates\" : 0.7, \"tomates\" : 3.0}\n"
   ],
   "metadata": {
    "collapsed": false,
    "pycharm": {
     "name": "#%%\n"
    }
   }
  },
  {
   "cell_type": "code",
   "execution_count": 18,
   "outputs": [],
   "source": [
    "def calcul_conso_totale(dico):\n",
    "    return sum(dico.values())"
   ],
   "metadata": {
    "collapsed": false,
    "pycharm": {
     "name": "#%% Question 1\n"
    }
   }
  },
  {
   "cell_type": "code",
   "execution_count": 19,
   "outputs": [
    {
     "name": "stdout",
     "output_type": "stream",
     "text": [
      "dict_items([('peches', 1.5), ('cerises', 1.3), ('courgettes', 2.5), ('abricots', 0.4), ('peches plates', 0.7), ('tomates', 3.0)])\n",
      "dict_values([1.5, 1.3, 2.5, 0.4, 0.7, 3.0])\n"
     ]
    }
   ],
   "source": [
    "calcul_conso_totale(conso_verdure_Michel)\n",
    "\n",
    "print(conso_verdure_Michel.items())\n",
    "print(conso_verdure_Michel.values())"
   ],
   "metadata": {
    "collapsed": false,
    "pycharm": {
     "name": "#%%\n"
    }
   }
  },
  {
   "cell_type": "code",
   "execution_count": 20,
   "outputs": [],
   "source": [
    "# Question 2\n",
    "\n",
    "def max_item(dico):\n",
    "    l = list(dico.items())\n",
    "    # [(\"ee\", 1.1), (\"ee\", 1.1)...]\n",
    "    l = sorted(l, key=lambda x: x[1])\n",
    "    return l[-1][0]  # Dernier élément\n"
   ],
   "metadata": {
    "collapsed": false,
    "pycharm": {
     "name": "#%%\n"
    }
   }
  },
  {
   "cell_type": "code",
   "execution_count": 21,
   "outputs": [
    {
     "name": "stdout",
     "output_type": "stream",
     "text": [
      "tomates\n",
      "tomates\n"
     ]
    }
   ],
   "source": [
    "print(max_item(conso_verdure_Michel))\n",
    "\n",
    "# Alternative\n",
    "\n",
    "print(max(conso_verdure_Michel, key=conso_verdure_Michel.get))"
   ],
   "metadata": {
    "collapsed": false,
    "pycharm": {
     "name": "#%%\n"
    }
   }
  },
  {
   "cell_type": "code",
   "execution_count": 22,
   "outputs": [],
   "source": [
    "# 3\n",
    "def liste_decroissante_conso(dico):\n",
    "    l = list(dico.items())\n",
    "    # [(\"ee\", 1.1), (\"ee\", 1.1)...]\n",
    "    l = sorted(l, key=lambda x: x[1], reverse=True)\n",
    "    return [e[0] for e in l]\n",
    "\n",
    "def liste_decroissante_conso2(dico): # la fonction dict permet de faire une copie d'un dictionnaire\n",
    "    new_dico = dict(dico)\n",
    "    liste = []\n",
    "    for l in range(len(new_dico)):\n",
    "        liste.append(max_item(new_dico))\n",
    "        del new_dico[liste[-1]]\n",
    "    return liste"
   ],
   "metadata": {
    "collapsed": false,
    "pycharm": {
     "name": "#%%\n"
    }
   }
  },
  {
   "cell_type": "code",
   "execution_count": 23,
   "outputs": [
    {
     "name": "stdout",
     "output_type": "stream",
     "text": [
      "['tomates', 'courgettes', 'peches', 'cerises', 'peches plates', 'abricots']\n",
      "['tomates', 'courgettes', 'peches', 'cerises', 'peches plates', 'abricots']\n"
     ]
    }
   ],
   "source": [
    "print(liste_decroissante_conso(conso_verdure_Michel))\n",
    "print(liste_decroissante_conso2(conso_verdure_Michel))\n",
    "\n",
    "\n"
   ],
   "metadata": {
    "collapsed": false,
    "pycharm": {
     "name": "#%%\n"
    }
   }
  }
 ],
 "metadata": {
  "kernelspec": {
   "name": "pycharm-f63075c9",
   "language": "python",
   "display_name": "PyCharm (pythonProject)"
  },
  "language_info": {
   "codemirror_mode": {
    "name": "ipython",
    "version": 2
   },
   "file_extension": ".py",
   "mimetype": "text/x-python",
   "name": "python",
   "nbconvert_exporter": "python",
   "pygments_lexer": "ipython2",
   "version": "2.7.6"
  }
 },
 "nbformat": 4,
 "nbformat_minor": 0
}